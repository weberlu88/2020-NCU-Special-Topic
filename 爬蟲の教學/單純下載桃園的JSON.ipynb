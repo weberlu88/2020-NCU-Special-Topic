{
 "cells": [
  {
   "cell_type": "markdown",
   "metadata": {},
   "source": [
    "## 教學\n",
    "- [Downloading Files from URLs in Python](https://www.codementor.io/@aviaryan/downloading-files-from-urls-in-python-77q3bs0un) 第一個範例就可以成功了!\n",
    "- [Download large file in python with requests](https://stackoverflow.com/questions/16694907/download-large-file-in-python-with-requests) 下載大檔案"
   ]
  },
  {
   "cell_type": "markdown",
   "metadata": {},
   "source": [
    "## 桃園開放資料\n",
    "\n",
    "網站：[點我](https://data.tycg.gov.tw/opendata/datalist/datasetMeta?oid=6ba44925-43ed-4bc7-8243-c22ab10ca4ff)\n",
    "\n",
    "網址解讀：\n",
    "- 資料集ID 6ba44925-43ed-4bc7-8243-c22ab10ca4ff (路邊停車資訊網頁的代號)\n",
    "- 資源項目RID 27d2edc9-890e-4a42-bcae-6ba78dd3c331\n",
    "- JSON的API：\n",
    "http://data.tycg.gov.tw/api/v1/rest/datastore/27d2edc9-890e-4a42-bcae-6ba78dd3c331?format=json\n",
    "- 或是這個API也可以(我用F12抓的)：https://data.tycg.gov.tw/opendata/datalist/datasetMeta/download?id=6ba44925-43ed-4bc7-8243-c22ab10ca4ff&rid=27d2edc9-890e-4a42-bcae-6ba78dd3c331\n",
    "- 可以看到每個車位的更新時間不一樣(會差到1小時唷)，應該是根據收費員會報的資料，不是地磁即時資料"
   ]
  },
  {
   "cell_type": "markdown",
   "metadata": {},
   "source": [
    "## 搞定 in 4 line\n",
    "用最基本的requests套件就好了"
   ]
  },
  {
   "cell_type": "code",
   "execution_count": 3,
   "metadata": {},
   "outputs": [
    {
     "data": {
      "text/plain": [
       "38494"
      ]
     },
     "execution_count": 3,
     "metadata": {},
     "output_type": "execute_result"
    }
   ],
   "source": [
    "import requests\n",
    "\n",
    "# Download json file 的 api 網址\n",
    "url = \"http://data.tycg.gov.tw/api/v1/rest/datastore/27d2edc9-890e-4a42-bcae-6ba78dd3c331?format=json\"\n",
    "\n",
    "r = requests.get(url, allow_redirects=True)\n",
    "open('download.json', 'wb').write(r.content)"
   ]
  }
 ],
 "metadata": {
  "kernelspec": {
   "display_name": "Python 3",
   "language": "python",
   "name": "python3"
  },
  "language_info": {
   "codemirror_mode": {
    "name": "ipython",
    "version": 3
   },
   "file_extension": ".py",
   "mimetype": "text/x-python",
   "name": "python",
   "nbconvert_exporter": "python",
   "pygments_lexer": "ipython3",
   "version": "3.7.4"
  }
 },
 "nbformat": 4,
 "nbformat_minor": 2
}

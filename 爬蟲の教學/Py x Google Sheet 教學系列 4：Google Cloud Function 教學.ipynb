{
 "cells": [
  {
   "cell_type": "markdown",
   "metadata": {
    "colab_type": "text",
    "id": "5A0AAVBqBEEo"
   },
   "source": [
    "## 我們的需求\n",
    "\n",
    "今天雖然我們已經寫出了能夠把股價資料寫入 Google SpreadSheet 的程式\n",
    "\n",
    "但是若我們是將此程式放在 Colab 上，每天要手動執行十分麻煩...\n",
    "\n",
    "因此，我們希望能夠有一個平台，能夠讓我們：\n",
    "\n",
    "1. 將我們寫好的**程式碼部署在雲端上**，這樣就不必受限于個人電腦開關機的限制，任何時候都可以執行\n",
    "2. 能夠**定期定時去執行我們寫好的程式**，免去在個人電腦上設定排程的麻煩"
   ]
  },
  {
   "cell_type": "markdown",
   "metadata": {
    "colab_type": "text",
    "id": "CQoGt0HKBEEr"
   },
   "source": [
    "## 雲端服務\n",
    "\n",
    "過去要將寫好的程式碼部署到雲端上，是很費功夫的，使用者必須掌握 Linux OS、 Linux 指令列、終端機、以及維運等相關技術。\n",
    "\n",
    "但是幸運的是，由於像是 AWS、GCP、Azure 等雲端服務平台的發展已經日漸成熟，使用這些雲端平台的技術門檻都大幅下降。\n",
    "\n",
    "\n",
    "## Serverless (無伺服器服務)\n",
    "\n",
    "最近這幾年，這些主流的雲端服務平台甚至提出了 **Serverler** (無伺服器服務)，讓使用者能夠在無需自行建立以及維護就可以讓自己的程式碼運行在雲端上。\n",
    "\n",
    "![](https://drive.google.com/uc?export=download&id=1M3m82ChzOcR3BvMeUPZ5IdEgCfqcprZq)\n",
    "\n",
    "\n",
    "我們這堂課就來見識一下 Google Cloud Platform 上的 **Google Could Function** 服務\n",
    "\n",
    "### 1. 這邊請各位先登入你的 Google 賬號，並點擊進入 GCP 首頁：\n",
    "\n",
    "GCP 首頁：[連結](https://cloud.google.com/)\n",
    "\n",
    "![](https://drive.google.com/uc?export=download&id=1B49kOSKLH0XcKDNQLPAnAQ9aVcYmBii8)\n",
    "\n",
    "請點擊**免費試用**"
   ]
  },
  {
   "cell_type": "markdown",
   "metadata": {
    "colab_type": "text",
    "id": "_RkpRkTSBEEs"
   },
   "source": [
    "\n",
    "### 2. 同意服務條款並且繼續\n",
    "![](https://drive.google.com/uc?export=download&id=1LYliLtBjnaGFNcKlClgFFDxUXdiMex6R)\n",
    "\n",
    "### 3. 選擇**個人**，並且輸入你的付款方式（不用擔心，Google 不會隨意跟你收取費用）\n",
    "![](https://drive.google.com/uc?export=download&id=17x_R764X49PqvgpjUy6hV_TpGHi5B3LI)\n",
    "\n",
    "\n",
    "### 4. 選擇開始試用期\n",
    "![](https://drive.google.com/uc?export=download&id=1ix6guv28xhNCJax8ziWURUUkQx4hsr-U)\n",
    "\n",
    "\n",
    "### 5. 接下來就可以進入 GCP 的首頁了\n",
    "\n",
    "注意在注冊賬號之後，GCP 有 12 個月的試用期，在這個試用期内，使用者有 $300 美金的額度可以測試許多好用的服務\n",
    "\n",
    "![](https://drive.google.com/uc?export=download&id=1piHKStVRU-7a5fI5knDGKa-5UPfsPyiU)\n",
    "\n",
    "### 6. 若不習慣英文界面，可以點開右上角的選單\n",
    "![](https://drive.google.com/uc?export=download&id=1Ee4WbAZ61vZEmo0Tdp0q4eBfuP3KNnrj)\n",
    "\n",
    "### 7. 將語言改成中文即可\n",
    "![](https://drive.google.com/uc?export=download&id=10jNhjDb8HLVvwWyOCXbCJ7RiZRPmn_wu)\n",
    "### 8. 接下來我們回到首頁，點擊左上角的下拉選單，建立一個新的專案\n",
    "![](https://drive.google.com/uc?export=download&id=1-qnL1PnmegqvqoCjGZA8E4SzO_d0_P4k)\n",
    "### 9. 輸入專案名稱，建立新專案\n",
    "![](https://drive.google.com/uc?export=download&id=1GZhtaGhwSdSRjpshRshUCkh9glh8eacp)\n",
    "\n",
    "### 10. 選擇 Cloud Function 服務\n",
    "![](https://drive.google.com/uc?export=download&id=1X8diEJwbxhPUr3qU_i_gN7wXl3bCvBY0)\n",
    "### 11. 點選建立函式\n",
    "![](https://drive.google.com/uc?export=download&id=1Wnm4sXYSc5cAapbXKqwiXo40fOqnZ1oP)\n",
    "\n",
    "### 12. 輸入函式名稱，將觸發條件設定成 http\n",
    "![](https://drive.google.com/uc?export=download&id=1lW1i2fZTaRA6Q8OPnT-5TxtepGhiyINf)\n",
    "\n"
   ]
  },
  {
   "cell_type": "markdown",
   "metadata": {
    "colab_type": "text",
    "id": "sulvNPvLBEEv"
   },
   "source": [
    "### 13. 設定要執行的函式（在 Python 程式碼内會被執行的函數）以及地區，我們選擇一個與台灣最近的地區：asia-northeast1\n",
    "![](https://drive.google.com/uc?export=download&id=1KPRnDhOninGu4k5RfjFWjY4nu22P5gU7)\n",
    "\n",
    "### 14. 完成之後，回到 Cloud Function 首頁，點入方才建立的 Function\n",
    "\n",
    "![](https://drive.google.com/uc?export=download&id=1vqrv3gf3krAJRj2glI6G65fh1xdU2VIP)\n",
    "### 15. 選擇測試函式\n",
    "![](https://drive.google.com/uc?export=download&id=1x6owniKnjlOxPA5XKJb3RiatFsFe7a04)\n",
    "### 16. 順利的話，會顯示 Hello World!\n",
    "![](https://drive.google.com/uc?export=download&id=1DiqXON_KKSB-8JhdGu3TTgi80oAqcVTN)\n",
    "### 17. 若把該函式的網址放入瀏覽器執行\n",
    "![](https://drive.google.com/uc?export=download&id=1Lu6TCLVewO-QH6T5zH4DeSdrQ94V5vWh)"
   ]
  },
  {
   "cell_type": "markdown",
   "metadata": {
    "colab_type": "text",
    "id": "PL2sCS49BEEx"
   },
   "source": [
    "## 小結\n",
    "\n",
    "**Cloud Function 簡單來説，就是一個在雲端上的函數**，驅動該函數的方式是透過呼叫與該函數相對應的 http 網址。\n",
    "\n",
    "\n",
    "\n",
    "---\n",
    "## 備注：\n",
    "\n",
    "## Google 雲服務地區\n",
    "\n",
    "Cloud Function 區域對照表：[連結](https://cloud.google.com/compute/docs/regions-zones/?hl=zh_TW)\n",
    "\n",
    "一般在部署程式時，都會選擇最接近的地區，雖然 Google 在台灣有機房 `asia-east1`，但是有許多 Google 的服務並沒有提供台灣的選項 (我們使用的 Cloud Function 就是一個例子)，在遇到這樣的情況，可以選擇 `asia-northeast1(東京)`、`asia-northeast2(大版)`、或是 `asia-east2(香港)`\n",
    "\n",
    "---\n",
    "## 費用\n",
    "\n",
    "有一些同學可能會擔心 Google 雲端服務是否會索取費用\n",
    "\n",
    "基本上，雲服務是一個**用多少、付多少**的概念，Cloud Function 被執行的次數越多，費用也隨之提高，但由於每次執行所需付的金額十分小，另外由於 Google 身爲雲服務市場居下風的厰商，爲了促銷、給予了使用者許多紅利，我們可以參考一下官方文件：\n",
    "\n",
    "Cloud Function 價格：[連結](https://cloud.google.com/functions/pricing-summary/)\n",
    "\n",
    "可以發現，Cloud Function 若**每個月被呼叫的次數是在 100 萬次以内，是不需要付費的**，\n",
    "只能説：好服務，不用嗎？\n"
   ]
  },
  {
   "cell_type": "code",
   "execution_count": 0,
   "metadata": {
    "colab": {},
    "colab_type": "code",
    "id": "cJYetVEu8GCq"
   },
   "outputs": [],
   "source": []
  }
 ],
 "metadata": {
  "colab": {
   "name": "Py x Google Sheet 教學系列 4：Google Cloud Function 教學.ipynb",
   "provenance": []
  },
  "kernelspec": {
   "display_name": "Python 3",
   "language": "python",
   "name": "python3"
  },
  "language_info": {
   "codemirror_mode": {
    "name": "ipython",
    "version": 3
   },
   "file_extension": ".py",
   "mimetype": "text/x-python",
   "name": "python",
   "nbconvert_exporter": "python",
   "pygments_lexer": "ipython3",
   "version": "3.7.4"
  }
 },
 "nbformat": 4,
 "nbformat_minor": 1
}

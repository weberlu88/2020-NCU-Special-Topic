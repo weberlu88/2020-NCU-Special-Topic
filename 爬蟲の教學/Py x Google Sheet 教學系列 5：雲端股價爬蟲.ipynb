{
 "cells": [
  {
   "cell_type": "markdown",
   "metadata": {
    "colab_type": "text",
    "id": "vAmMLVSqU4yO"
   },
   "source": [
    "## 我們想打造的程式\n",
    "\n",
    "一個能夠自動將每一天的股價資料寫入到 Google SpreadSheet 的自動化程式\n",
    "\n",
    "1. 使用者可以將想記錄股票代號填入**追蹤清單**\n",
    "2. 系統會根據使用者填入的股票代號，把股價資料填入相對應的工作表内\n",
    "\n",
    "![](https://drive.google.com/uc?export=download&id=1b8_RFRu03_-YlHFTTm_xa8qPdX2vukCE)\n",
    "\n",
    "在上一堂課雖然我們已經寫出了能夠把股價資料寫入 Google SpreadSheet 的程式\n",
    "\n",
    "但是若我們是將此程式放在 Colab 上，每天要手動執行十分麻煩...\n",
    "\n",
    "因此，我們希望能夠有一個平台，能夠讓我們：\n",
    "\n",
    "1. 將我們寫好的**程式碼部署在雲端上**，這樣就不必受限于個人電腦開關機的限制，任何時候都可以執行\n",
    "2. 能夠**定期定時去執行我們寫好的程式**，免去在個人電腦上設定排程的麻煩"
   ]
  },
  {
   "cell_type": "code",
   "execution_count": 0,
   "metadata": {
    "colab": {},
    "colab_type": "code",
    "id": "2mHxM5-TU4yU"
   },
   "outputs": [],
   "source": [
    "!pip install --upgrade --quiet pygsheets"
   ]
  },
  {
   "cell_type": "markdown",
   "metadata": {
    "colab_type": "text",
    "id": "2oMSXuDqU4ya"
   },
   "source": [
    "## 如何讓 pygsheet 操作你的 google 試算表\n",
    "\n",
    "我們在上一堂課有體驗到，今天要透過程式化的方式去操作 Google SpreadSheet，但是在驗證上的處理十分麻煩，需要透過手動的方式輸入驗證碼\n",
    "\n",
    "若不希望用手動的方式輸入驗證碼，`pygsheets` 套件其實提供了一些驗證方式：\n",
    "\n",
    "pygsheet 官方教學 (英)：[連結](https://pygsheets.readthedocs.io/en/stable/authorization.html)\n",
    "\n",
    "---\n",
    "其中最簡易的方式為，我們需要與 Google 申請一個**服務帳戶金鑰**\n",
    "\n",
    "Google 服務帳戶金鑰官方文件 ：[連結](https://cloud.google.com/iam/docs/service-accounts)\n",
    "\n",
    "---\n",
    "### 1. 請先登入：Google 開發者頁面：[連結](https://console.developers.google.com/)\n",
    "\n",
    "### 2. 搜尋我們在上一個教學建立的專案\n",
    "\n",
    "![](https://drive.google.com/uc?export=download&id=1IUs8jhGkBWdw765z-sGFxrqRbDYV1Es2)\n",
    "\n",
    "![](https://drive.google.com/uc?export=download&id=1kSlPWjbv-no6P9ZTXjPD2epRUkwmcHPW)\n",
    "\n",
    "### 3. 點入資料庫 > 搜尋 **Sheet** 與 **Drive API**，開啓兩者\n",
    "\n",
    "![](https://drive.google.com/uc?export=download&id=1fsWVfzMXvIGPFpoe-W2YAoi3DDu9R0jT)\n",
    "\n",
    "![](https://drive.google.com/uc?export=download&id=1JsJPv73-dSShLFiY6E8bDOiALZ1BdoWj)\n",
    "\n",
    "![](https://drive.google.com/uc?export=download&id=1dMaxOaRX7wGqN4D_KMmZ1QK4yGt8hgG1)\n",
    "\n",
    "在開啓之後，應該會被導入一下頁面，若顯示 **停用按鈕**，代表 API 已經被開啓，可以被程式操作了\n",
    "\n",
    "![](https://drive.google.com/uc?export=download&id=1Hro_yFbGu04tTKFFF7zYiYqLjZfK1rt0)\n",
    "\n",
    "接下來我們重複上述流程，將 Drive API 開啓\n",
    "\n",
    "### 4. 在憑證的選項，選擇建立憑證 > 服務帳戶金鑰\n",
    "\n",
    "![](https://drive.google.com/uc?export=download&id=1GiaFytTcsc4HBKSwfcyaVjgJo5rJXvfh)\n",
    "\n",
    "![](https://drive.google.com/uc?export=download&id=1Y3YIshrJcUXTNOUd09fxSDXupc4BtfUu)\n",
    "\n",
    "### 5. 服務帳戶金鑰，一個 JSON 檔案，會被下載到本機端\n",
    "\n",
    "### 6. 將 JSON 檔案的路徑複製下來\n",
    "\n"
   ]
  },
  {
   "cell_type": "markdown",
   "metadata": {
    "colab_type": "text",
    "id": "CfNNpiJwU4yc"
   },
   "source": [
    "## 測試一下我們的服務帳戶金鑰"
   ]
  },
  {
   "cell_type": "code",
   "execution_count": 0,
   "metadata": {
    "colab": {},
    "colab_type": "code",
    "id": "9wtmh66VU4yd"
   },
   "outputs": [],
   "source": [
    "import pygsheets\n",
    "# 驗證\n",
    "gc = pygsheets.authorize(service_file=r\"C:\\服務帳戶金鑰 json檔案路徑\")\n",
    "gc"
   ]
  },
  {
   "cell_type": "markdown",
   "metadata": {
    "colab_type": "text",
    "id": "C8lWtd18U4yl"
   },
   "source": [
    "## 範例 Google Spreadsheet\n",
    "接下來請開啓並且複製一份這節課的範例 Google Spreadsheet 到你的 Google Drive：[連結](https://docs.google.com/spreadsheets/d/1CYXJyVGc9xcAM3lfMZtRHgOOK8jNACWPQWgxqELCW8o/edit#gid=0)\n",
    "\n",
    "接下來請記得分享你的 Google Spreadsheet，並且調整權限至**編輯**\n",
    "\n",
    "![](https://drive.google.com/uc?export=download&id=1Nd9avXDJvQjj8SNvSDO1YWzaCv7F_TVn)"
   ]
  },
  {
   "cell_type": "code",
   "execution_count": 0,
   "metadata": {
    "colab": {},
    "colab_type": "code",
    "id": "XYhFTivnU4ym"
   },
   "outputs": [],
   "source": [
    "wb = gc.open_by_url(\"你的 Google Spreadsheet url\")\n",
    "wb"
   ]
  },
  {
   "cell_type": "code",
   "execution_count": 0,
   "metadata": {
    "colab": {},
    "colab_type": "code",
    "id": "Ce3JQ7m-U4yq"
   },
   "outputs": [],
   "source": [
    "# 檢查 url\n",
    "wb.url"
   ]
  },
  {
   "cell_type": "code",
   "execution_count": 0,
   "metadata": {
    "colab": {},
    "colab_type": "code",
    "id": "Wy9j6du2U4yt"
   },
   "outputs": [],
   "source": [
    "# 選擇追蹤清單\n",
    "wks = wb.worksheet_by_title(\"追蹤清單\")\n",
    "wks"
   ]
  },
  {
   "cell_type": "markdown",
   "metadata": {
    "colab_type": "text",
    "id": "X444HLW6U4yw"
   },
   "source": [
    "## 截取追蹤清單内的所有股票代號\n",
    "\n",
    "\n",
    "```python\n",
    "wks.get_col(1, include_tailing_empty=False)\n",
    "```"
   ]
  },
  {
   "cell_type": "code",
   "execution_count": 0,
   "metadata": {
    "colab": {},
    "colab_type": "code",
    "id": "PWBWg8MfU4yx"
   },
   "outputs": [],
   "source": [
    "wks.get_col(1, include_tailing_empty=False)"
   ]
  },
  {
   "cell_type": "code",
   "execution_count": 0,
   "metadata": {
    "colab": {},
    "colab_type": "code",
    "id": "Oqi_63ToU4y1",
    "scrolled": true
   },
   "outputs": [],
   "source": [
    "# 找出所有的股票代號，'TWSE_SEM_INDEX_1' 代表加權指數\n",
    "stocks = wks.get_col(1, include_tailing_empty=False)[1:]\n",
    "stocks"
   ]
  },
  {
   "cell_type": "markdown",
   "metadata": {
    "colab_type": "text",
    "id": "V3ekkMKfU4y4"
   },
   "source": [
    "## 回顧我們之前實作的股票爬蟲\n",
    "\n",
    "```python\n",
    "import requests\n",
    "\n",
    "def get_stock_data(stock_id, token):\n",
    "    payload = {\n",
    "        \"symbolId\": stock_id,\n",
    "        \"apiToken\": token\n",
    "    }\n",
    "\n",
    "    res = requests.get(\"https://api.fugle.tw/realtime/v0/intraday/quote\", params=payload)\n",
    "    data = res.json()[\"data\"][\"quote\"]\n",
    "\n",
    "    return {\n",
    "        \"high\": data[\"priceHigh\"][\"price\"],\n",
    "        \"low\": data[\"priceLow\"][\"price\"],\n",
    "        \"open\": data[\"priceOpen\"][\"price\"],\n",
    "        \"trading\": data[\"trade\"][\"price\"]\n",
    "    }\n",
    "```"
   ]
  },
  {
   "cell_type": "code",
   "execution_count": 0,
   "metadata": {
    "colab": {},
    "colab_type": "code",
    "id": "eO4VscDpU4y5"
   },
   "outputs": [],
   "source": [
    "import requests\n",
    "\n",
    "def get_stock_data(stock_id, token):\n",
    "    payload = {\n",
    "        \"symbolId\": stock_id,\n",
    "        \"apiToken\": token\n",
    "    }\n",
    "\n",
    "    res = requests.get(\"https://api.fugle.tw/realtime/v0/intraday/quote\", params=payload)\n",
    "    data = res.json()[\"data\"][\"quote\"]\n",
    "\n",
    "    return {\n",
    "        \"high\": data[\"priceHigh\"][\"price\"],\n",
    "        \"low\": data[\"priceLow\"][\"price\"],\n",
    "        \"open\": data[\"priceOpen\"][\"price\"],\n",
    "        \"trading\": data[\"trade\"][\"price\"]\n",
    "    }"
   ]
  },
  {
   "cell_type": "markdown",
   "metadata": {
    "colab_type": "text",
    "id": "60XPA-cncOfY"
   },
   "source": [
    "## 接下來我們來測試一下寫好的爬蟲\n",
    "\n",
    "請各位同學使用之前申請的 Fugle API Token 來測試\n",
    "\n",
    "fugle 開發者頁面：[連節](https://developer.fugle.tw/)"
   ]
  },
  {
   "cell_type": "code",
   "execution_count": 0,
   "metadata": {
    "colab": {},
    "colab_type": "code",
    "id": "vCI-Ied1U4y8"
   },
   "outputs": [],
   "source": [
    "# 測試一下是否能運作\n",
    "get_stock_data(\"2330\", \"你的 Fugle API 通行碼\")"
   ]
  },
  {
   "cell_type": "code",
   "execution_count": 0,
   "metadata": {
    "colab": {},
    "colab_type": "code",
    "id": "C-VQo23xU4zD"
   },
   "outputs": [],
   "source": [
    "# 截取多個股票的資料\n",
    "fugle_token = \"你的 Fugle API 通行碼\"\n",
    "stocks\n",
    "\n",
    "for stock in stocks:\n",
    "    print(get_stock_data(stock, fugle_token))"
   ]
  },
  {
   "cell_type": "code",
   "execution_count": 0,
   "metadata": {
    "colab": {},
    "colab_type": "code",
    "id": "VICv68TCU4zG"
   },
   "outputs": [],
   "source": [
    "# 截取多個不同的工作表\n",
    "for stock in stocks:\n",
    "    wks = wb.worksheet_by_title(str(stock))\n",
    "    print(wks)"
   ]
  },
  {
   "cell_type": "code",
   "execution_count": 0,
   "metadata": {
    "colab": {},
    "colab_type": "code",
    "id": "f0YHB3NhU4zI"
   },
   "outputs": [],
   "source": [
    "for stock in stocks:\n",
    "    wks = wb.worksheet_by_title(str(stock))\n",
    "    col_a_data = wks.get_col(1, include_tailing_empty=False)\n",
    "    # 動態偵測每一個工作表的最後一個 row\n",
    "    max_row = len(col_a_data)\n",
    "    print(max_row)"
   ]
  },
  {
   "cell_type": "markdown",
   "metadata": {
    "colab_type": "text",
    "id": "RgRDCABWU4zM"
   },
   "source": [
    "## 建立工作表\n",
    "\n",
    "```python\n",
    "wb.add_worksheet(\"Test\", # 名稱\n",
    "               rows=100, # row 數目\n",
    "               cols=26,  # col 數目\n",
    "               src_worksheet=wb.worksheet_by_title(\"範例\"), # 複製格式的工作表 \n",
    "               index=None)\n",
    "```"
   ]
  },
  {
   "cell_type": "code",
   "execution_count": 0,
   "metadata": {
    "colab": {},
    "colab_type": "code",
    "id": "_3Wyz3aCU4zO"
   },
   "outputs": [],
   "source": [
    "wks = wb.add_worksheet(\"Test\", \n",
    "                       rows=1000, \n",
    "                       cols=26,  \n",
    "                       src_worksheet=wb.worksheet_by_title(\"範例\"), \n",
    "                       index=None)\n",
    "wks"
   ]
  },
  {
   "cell_type": "markdown",
   "metadata": {
    "colab_type": "text",
    "id": "dnYK9xBxU4zT"
   },
   "source": [
    "## 產生一個新的 Row\n",
    "\n",
    "```python\n",
    "# row 代表被插入的 row 值, value 則是要寫入該 row 的資料\n",
    "wks.insert_rows(row=1, values=[5,4,3,2,1])\n",
    "```"
   ]
  },
  {
   "cell_type": "code",
   "execution_count": 0,
   "metadata": {
    "colab": {},
    "colab_type": "code",
    "id": "AZ8lg11hU4zV"
   },
   "outputs": [],
   "source": [
    "wks.insert_rows(row=1, values=[5,4,3,2,1])"
   ]
  },
  {
   "cell_type": "code",
   "execution_count": 0,
   "metadata": {
    "colab": {},
    "colab_type": "code",
    "id": "cANk3RCXU4zX"
   },
   "outputs": [],
   "source": [
    "col_a_data = wks.get_col(1, include_tailing_empty=False)\n",
    "last_row = len(col_a_data)\n",
    "wks.insert_rows(row=last_row, values=[5,4,3,2,1])"
   ]
  },
  {
   "cell_type": "code",
   "execution_count": 0,
   "metadata": {
    "colab": {},
    "colab_type": "code",
    "id": "tej4H0dIU4zZ"
   },
   "outputs": [],
   "source": [
    "fugle_token = \"你的 Fugle API 通行碼\"\n",
    "stock = \"2330\"\n",
    "\n",
    "stock_data = get_stock_data(stock, fugle_token)\n",
    "stock_data"
   ]
  },
  {
   "cell_type": "code",
   "execution_count": 0,
   "metadata": {
    "colab": {},
    "colab_type": "code",
    "id": "pOeERXRvU4zc"
   },
   "outputs": [],
   "source": [
    "import time\n",
    "\n",
    "data = [\n",
    "    time.strftime(\"%Y/%m/%d\"), \n",
    "    stock_data[\"open\"], \n",
    "    stock_data[\"high\"], \n",
    "    stock_data[\"low\"], \n",
    "    stock_data[\"trading\"]\n",
    "]\n",
    "\n",
    "data"
   ]
  },
  {
   "cell_type": "markdown",
   "metadata": {
    "colab_type": "text",
    "id": "_B-mON67U4zf"
   },
   "source": [
    "## 整合一下目前的東西"
   ]
  },
  {
   "cell_type": "code",
   "execution_count": 0,
   "metadata": {
    "colab": {},
    "colab_type": "code",
    "id": "Y9YoJeoyU4zg"
   },
   "outputs": [],
   "source": [
    "fugle_token = \"你的 Fugle API 通行碼\"\n",
    "stock = \"2330\"\n",
    "\n",
    "stock_data = get_stock_data(stock, fugle_token)\n",
    "stock_data\n",
    "\n",
    "data = [\n",
    "    time.strftime(\"%Y/%m/%d\"), \n",
    "    stock_data[\"open\"], \n",
    "    stock_data[\"high\"], \n",
    "    stock_data[\"low\"], \n",
    "    stock_data[\"trading\"]\n",
    "]\n",
    "\n",
    "col_a_data = wks.get_col(1, include_tailing_empty=False)\n",
    "last_row = len(col_a_data)\n",
    "wks.insert_rows(last_row, values=data)"
   ]
  },
  {
   "cell_type": "markdown",
   "metadata": {
    "colab_type": "text",
    "id": "DL0V8YKqU4zt"
   },
   "source": [
    "## 用 for loop 迭代股票代號，將資料寫入不同的工作表"
   ]
  },
  {
   "cell_type": "code",
   "execution_count": 0,
   "metadata": {
    "colab": {},
    "colab_type": "code",
    "id": "PAcQ9LFpU4zu"
   },
   "outputs": [],
   "source": [
    "fugle_token = \"你的 Fugle API 通行碼\"\n",
    "\n",
    "for stock in stocks:\n",
    "    # 選擇工作表\n",
    "    wks = wb.worksheet_by_title(str(stock))\n",
    "    print(wks)\n",
    "    # 偵測該工作表最後一個 row\n",
    "    col_a_data = wks.get_col(1, include_tailing_empty=False)\n",
    "    last_row = len(col_a_data)\n",
    "    # 截取該股票資料\n",
    "    stock_data = get_stock_data(stock, fugle_token)\n",
    "    data = [\n",
    "        time.strftime(\"%Y/%m/%d\"), \n",
    "        stock_data[\"open\"], \n",
    "        stock_data[\"high\"], \n",
    "        stock_data[\"low\"], \n",
    "        stock_data[\"trading\"]\n",
    "    ]\n",
    "    print(data)\n",
    "    # 將資料寫入工作表\n",
    "    wks.insert_rows(last_row, values=data)\n",
    "    # 重整工作表\n",
    "    wks.refresh()"
   ]
  },
  {
   "cell_type": "code",
   "execution_count": 0,
   "metadata": {
    "colab": {},
    "colab_type": "code",
    "id": "osy_eztAU4zy"
   },
   "outputs": [],
   "source": [
    "fugle_token = \"你的 Fugle API 通行碼\"\n",
    "\n",
    "for stock in stocks:\n",
    "    # 選擇工作表\n",
    "    try:\n",
    "        wks = wb.worksheet_by_title(str(stock))\n",
    "        col_a_data = wks.get_col(1, include_tailing_empty=False)\n",
    "        # 偵測該工作表最後一個 row\n",
    "        last_row = len(col_a_data)\n",
    "    # 若該工作表不存在，就新建立一個\n",
    "    except:\n",
    "        wks = wb.add_worksheet(str(stock), rows=100, cols=26, src_tuple=None, src_worksheet=wb.worksheet_by_title(\"範例\"), index=None)\n",
    "        last_row = 1\n",
    "\n",
    "    print(wks)\n",
    "    # 截取該股票資料\n",
    "    stock_data = get_stock_data(stock, fugle_token)\n",
    "    data = [\n",
    "        time.strftime(\"%Y/%m/%d\"), \n",
    "        stock_data[\"open\"], \n",
    "        stock_data[\"high\"], \n",
    "        stock_data[\"low\"], \n",
    "        stock_data[\"trading\"]\n",
    "    ]\n",
    "    print(data)\n",
    "    # 將資料寫入工作表\n",
    "    wks.insert_rows(last_row, values=data)\n",
    "    # 重整工作表\n",
    "    wks.refresh()"
   ]
  },
  {
   "cell_type": "markdown",
   "metadata": {
    "colab_type": "text",
    "id": "QSrhVRjnU4z2"
   },
   "source": [
    "## 完整版程式碼\n",
    "\n",
    "在執行完畢後，試算表内所有的試算表都應該被填入資料"
   ]
  },
  {
   "cell_type": "code",
   "execution_count": 0,
   "metadata": {
    "colab": {},
    "colab_type": "code",
    "id": "8w44J8hqU4z3"
   },
   "outputs": [],
   "source": [
    "import pygsheets\n",
    "import requests\n",
    "import time\n",
    "\n",
    "fugle_token = \"你的 Fugle API 通行碼\"\n",
    "line_token = \"你的 Line Notify 權杖\"\n",
    "\n",
    "def get_stock_data(stock_id, token):\n",
    "    payload = {\n",
    "        \"symbolId\": stock_id,\n",
    "        \"apiToken\": token\n",
    "    }\n",
    "\n",
    "    res = requests.get(\"https://api.fugle.tw/realtime/v0/intraday/quote\", params=payload)\n",
    "    data = res.json()[\"data\"][\"quote\"]\n",
    "\n",
    "    return {\n",
    "        \"high\": data[\"priceHigh\"][\"price\"],\n",
    "        \"low\": data[\"priceLow\"][\"price\"],\n",
    "        \"open\": data[\"priceOpen\"][\"price\"],\n",
    "        \"trading\": data[\"trade\"][\"price\"],\n",
    "        \"rate\": (data[\"trade\"][\"price\"] - data[\"priceOpen\"][\"price\"]) * 100 / data[\"priceOpen\"][\"price\"]\n",
    "    }\n",
    "\n",
    "gc = pygsheets.authorize(service_file=r\"C:\\服務帳戶金鑰 json 檔案的路徑\")\n",
    "# 開啓範例試算表\n",
    "wb = gc.open_by_url(\"你的 Google SpreadSheet 網址\")\n",
    "wks = wb.worksheet_by_title(\"追蹤清單\")\n",
    "# 截取股票清單\n",
    "stocks = wks.get_col(1, include_tailing_empty=False)[1:]\n",
    "\n",
    "for stock in stocks:\n",
    "    try:\n",
    "        # 選擇工作表\n",
    "        wks = wb.worksheet_by_title(str(stock))\n",
    "        # 偵測該工作表最後一個 row\n",
    "        col_a_data = wks.get_col(1, include_tailing_empty=False)\n",
    "        last_row = len(col_a_data)\n",
    "    # 若無工作表，就建立\n",
    "    except:\n",
    "        wks = wb.add_worksheet(str(stock), rows=100, cols=26, src_tuple=None, src_worksheet=wb.worksheet_by_title(\"範例\"), index=None)\n",
    "        last_row = 1\n",
    "\n",
    "    print(wks)\n",
    "    # 截取該股票資料\n",
    "    stock_data = get_stock_data(stock, fugle_token)\n",
    "    data = [\n",
    "        time.strftime(\"%Y/%m/%d\"), \n",
    "        stock_data[\"open\"], \n",
    "        stock_data[\"high\"], \n",
    "        stock_data[\"low\"], \n",
    "        stock_data[\"trading\"]\n",
    "    ]\n",
    "    print(data)\n",
    "    # 將資料寫入工作表\n",
    "    wks.insert_rows(last_row, values=data)\n",
    "    # 重整工作表\n",
    "    wks.refresh()\n",
    "\n",
    "\n",
    "# Line Notify\n",
    "line_url = \"https://notify-api.line.me/api/notify\"\n",
    "\n",
    "headers = {\n",
    "    \"Authorization\": \"Bearer \" + line_token, \n",
    "    \"Content-Type\" : \"application/x-www-form-urlencoded\"\n",
    "}\n",
    "\n",
    "msg = f\"BOT: {time.strftime('%Y/%m/%d')} 台股歷史資料已經更新完畢！\"\n",
    "\n",
    "payload = {'message': msg }\n",
    "r = requests.post(line_url, headers = headers, params = payload)"
   ]
  },
  {
   "cell_type": "markdown",
   "metadata": {
    "colab_type": "text",
    "id": "nUurbebNU4z4"
   },
   "source": [
    "## 將我們的程式碼部署到雲端上\n",
    "\n",
    "搞定我們的程式碼之後，最後是要將程式碼部署到 Cloud Function 上，部署前有兩點要注意：\n",
    "\n",
    "1. 我們需要將原本像脚本一樣的程式碼封裝到函式内（記得 Cloud Function 是執行使用者指定名稱的函數）\n",
    "2. 由於 Cloud Function 沒有地方可以讓我們放置**服務帳戶金鑰**，因此我們需要將**服務帳戶金鑰**改變成環境參數(Environment Variable)\n",
    "\n",
    "我們先將程式碼修改成以下，請注意關鍵是在這一行：\n",
    "\n",
    "```python\n",
    "gc = pygsheets.authorize(service_account_env_var=\"GOOGLE_CREDENTIALS\")\n",
    "```\n",
    "\n",
    "Python 在執行時，會去搜尋執行環境内是否有名爲 **GOOGLE_CREDENTIALS** 的環境參數"
   ]
  },
  {
   "cell_type": "code",
   "execution_count": 0,
   "metadata": {
    "colab": {},
    "colab_type": "code",
    "id": "57nrPEGFU4z5"
   },
   "outputs": [],
   "source": [
    "import pygsheets\n",
    "import requests\n",
    "import time\n",
    "\n",
    "fugle_token = \"你的 Fugle API 通行碼\"\n",
    "line_token = \"你的 Line Notify 權杖\"\n",
    "\n",
    "def get_stock_data(stock_id, token):\n",
    "    payload = {\n",
    "        \"symbolId\": stock_id,\n",
    "        \"apiToken\": token\n",
    "    }\n",
    "\n",
    "    res = requests.get(\"https://api.fugle.tw/realtime/v0/intraday/quote\", params=payload)\n",
    "    data = res.json()[\"data\"][\"quote\"]\n",
    "\n",
    "    return {\n",
    "        \"high\": data[\"priceHigh\"][\"price\"],\n",
    "        \"low\": data[\"priceLow\"][\"price\"],\n",
    "        \"open\": data[\"priceOpen\"][\"price\"],\n",
    "        \"trading\": data[\"trade\"][\"price\"]\n",
    "    }\n",
    "\n",
    "def line_notify(msg, line_token):\n",
    "    # Line Notify\n",
    "    line_url = \"https://notify-api.line.me/api/notify\"\n",
    "\n",
    "    headers = {\n",
    "        \"Authorization\": \"Bearer \" + line_token, \n",
    "        \"Content-Type\" : \"application/x-www-form-urlencoded\"\n",
    "    }\n",
    "\n",
    "    payload = {'message': msg }\n",
    "    r = requests.post(line_url, headers = headers, params = payload)   \n",
    "\n",
    "\n",
    "def tw_stock_updater(request):\n",
    "    # 驗證 Google Service Account\n",
    "    gc = pygsheets.authorize(service_account_env_var=\"GOOGLE_CREDENTIALS\")\n",
    "\n",
    "    # 開啓範例試算表\n",
    "    wb = gc.open_by_url(\"你的 Google SpreadSheet 網址\")\n",
    "    wks = wb.worksheet_by_title(\"追蹤清單\")\n",
    "    # 截取股票清單\n",
    "    stocks = wks.get_col(1, include_tailing_empty=False)[1:]\n",
    "\n",
    "    # 迭代每一支股票代號\n",
    "    for stock in stocks:\n",
    "        try:\n",
    "            # 選擇工作表\n",
    "            wks = wb.worksheet_by_title(str(stock))\n",
    "            # 偵測該工作表最後一個 row\n",
    "            col_a_data = wks.get_col(1, include_tailing_empty=False)\n",
    "            last_row = len(col_a_data)\n",
    "        # 若無工作表，就建立\n",
    "        except:\n",
    "            wks = wb.add_worksheet(str(stock), rows=100, cols=26, src_tuple=None, src_worksheet=wb.worksheet_by_title(\"範例\"), index=None)\n",
    "            last_row = 1\n",
    "\n",
    "        print(wks)\n",
    "        # 截取該股票的交易資料\n",
    "        stock_data = get_stock_data(stock, fugle_token)\n",
    "        # 將資料寫入一個 1 x 5 的串列\n",
    "        data = [\n",
    "            time.strftime(\"%Y/%m/%d\"), \n",
    "            stock_data[\"open\"], \n",
    "            stock_data[\"high\"], \n",
    "            stock_data[\"low\"], \n",
    "            stock_data[\"trading\"]\n",
    "        ]\n",
    "        print(data)\n",
    "        # 新增一個 row，將上面裝滿資料的串列寫入該 row\n",
    "        wks.insert_rows(last_row, values=data)\n",
    "        # 重整工作表，顯示更新之後的結果\n",
    "        wks.refresh()\n",
    "\n",
    "    # 產生訊息，提醒使用者股票資料已經更新完畢\n",
    "    msg = f\"BOT: {time.strftime('%Y/%m/%d')} 台股歷史資料已經更新完畢！\"\n",
    "    # 發送 Line 訊息\n",
    "    line_notify(msg, line_token)\n",
    "\n",
    "    return\n",
    "\n"
   ]
  },
  {
   "cell_type": "markdown",
   "metadata": {
    "colab_type": "text",
    "id": "Qv6vyciiU4z9"
   },
   "source": [
    "### 1. 接下來我們就建立一個新的 Cloud Function\n",
    "\n",
    "![](https://drive.google.com/uc?export=download&id=13JuK8lrWU8bf_8KOy5aw7Jk797tbTqGC)\n",
    "\n",
    "### 2. 將我們的程式碼複製到編輯器\n",
    "![](https://drive.google.com/uc?export=download&id=1u2tgbDdGpw1jVd9lI7MvUMQgprGnlb88)\n",
    "\n",
    "### 3. 點選編輯器旁的 `requirement.txt`，填入 `pygsheets`\n",
    "\n",
    "*這邊是在告訴 Cloud Function，在執行我們的 Python 程式碼之前需要安裝的模組\n",
    "\n",
    "![](https://drive.google.com/uc?export=download&id=1_lALkcP5yNqAxhvJoIpojp7ycKK17lLm)\n",
    "\n",
    "### 4. 接下來最有挑戰的部分，便是設定環境參數\n",
    "\n",
    "注意環境參數的形式不能是一個檔案，必須是數字或是字串，因此，我們需要將**服務帳戶金鑰** 的 `json` 檔案轉成字串，最後再將該字串填入環境參數的值\n",
    "\n",
    "![](https://drive.google.com/uc?export=download&id=1-N8pZ0vVyc2Kya5kfqS-32Et2SeICzWG)\n",
    "\n"
   ]
  },
  {
   "cell_type": "code",
   "execution_count": 0,
   "metadata": {
    "colab": {},
    "colab_type": "code",
    "id": "DuSQ6OcWU4z-",
    "scrolled": true
   },
   "outputs": [],
   "source": [
    "import json\n",
    "\n",
    "# 開啓服務帳戶金鑰 json檔\n",
    "with open(r\"C:\\服務帳戶金鑰 json檔案路徑\") as json_file:\n",
    "    data = json.load(json_file)\n",
    "\n",
    "# 將服務帳戶金鑰 json 檔轉換成 string\n",
    "json_str = json.dumps(data)\n",
    "\n",
    "# 但是因爲 Python 編碼的問題，可能會導致字串内多出 \\ 跳脫字元，需要刪除掉\n",
    "lst = json_str.split(\"\\\\n\")\n",
    "\"\\n\".join(lst)\n",
    "\n",
    "# 最後，請複製這段程式碼執行的結果（記得去掉前後端的單引號 '），並且填入 "
   ]
  },
  {
   "cell_type": "markdown",
   "metadata": {
    "colab_type": "text",
    "id": "pWRMFV4pU40B"
   },
   "source": [
    "## 如何定時執行我們的函式\n",
    "\n",
    "Google Cloud Function 也具備了類似排程的服務：Cloud Scheduler\n",
    "\n",
    "### 1. 開啓 Cloud Scheduler 服務\n",
    "![](https://drive.google.com/uc?export=download&id=1vFB3Tb9AavHr1wcfjFh6DWyNpJkmeN6m)\n",
    "![](https://drive.google.com/uc?export=download&id=170B57ka6UlqvNzSRNq_W_P8K5BvruAhP)\n",
    "![](https://drive.google.com/uc?export=download&id=1Pe87n6c02SCyhikrkuJqND3EkkRzddis)\n",
    "\n",
    "### 2. 選擇地點\n",
    "![](https://drive.google.com/uc?export=download&id=1cFc2dfJQdIk5_bhXzeFbfrYRPqafOkhj)\n",
    "![](https://drive.google.com/uc?export=download&id=1_7ZLqyq4MN26pa1xY_hBH3tch7_MhGFX)\n",
    "\n",
    "### 3. 設定 Cloud Scheduler 工作\n",
    "\n",
    "這邊比較麻煩的是設定 Unix 系統的排程，這邊提供一個好用的工具給大家：[Crontab guru](https://crontab.guru/#*_*_*_*)\n",
    "\n",
    "![](https://drive.google.com/uc?export=download&id=1T2xNKkbmmKsIofEGQ17_F-md0bWofTI3)\n",
    "\n",
    "### 4. 最後將我們的工作設定成\n",
    "\n",
    "![](https://drive.google.com/uc?export=download&id=1C5aZaUbUsmjP3Z6mIHdWnfeNquJpQP5u)\n",
    "\n",
    "### 5. 工作建立完畢後，可以測試執行是否能運作\n",
    "\n",
    "![](https://drive.google.com/uc?export=download&id=1r_2Jl9dr2jVEF62GihfXY839AmQOW7yz)\n",
    "\n",
    "### 6. 大公告成！\n",
    "\n",
    "接下來就等著每個交易日讓 Cloud Scheduler 自動執行，並且將股價資料整理到 Google Spreadsheet 内\n",
    "\n",
    "Cloud Scheduler 價格：[官方文件](https://cloud.google.com/scheduler/pricing)"
   ]
  },
  {
   "cell_type": "markdown",
   "metadata": {
    "colab_type": "text",
    "id": "huI8Ze-OU40B"
   },
   "source": [
    "# pyxl 課程總結\n",
    "\n",
    "1. **寫程式是手段，而非目的**，若今天花費過多時間寫程式，而沒有把本業的工作做好，反而得不償失\n",
    "\n",
    "2. 學習一個**能夠做更多事的程式語言，從時間報酬率的角度看是非常划算的投資**\n",
    "\n",
    "3. 用程式解決問題，記住 Occam's Razar (奧卡姆剃刀)，也就是**“如無必要，誤增實體”**\n",
    "\n",
    "4. 一個系統需要，前端，後端，以及 DataStore，而 **Excel 本身就是一個簡單的界面與 DataStore**，結合**用 Python 寫的後端**，就可以讓你快速客制化出一個驗證想法的程式 \\ 系統\n",
    "\n",
    "5. 從結構的角度來看，**Excel 與 Google Spreadsheet 是一樣的**，學會了其中一者，另外一者就能夠快速上手\n",
    "\n",
    "6. 我們可以善用雲服務平台，像是 GCP，讓我們的程式能夠運行在雲端上，達到真正的自動化\n"
   ]
  }
 ],
 "metadata": {
  "colab": {
   "collapsed_sections": [],
   "name": "Py x Google Sheet 教學系列 5：雲端股價爬蟲.ipynb",
   "provenance": []
  },
  "kernelspec": {
   "display_name": "Python 3",
   "language": "python",
   "name": "python3"
  },
  "language_info": {
   "codemirror_mode": {
    "name": "ipython",
    "version": 3
   },
   "file_extension": ".py",
   "mimetype": "text/x-python",
   "name": "python",
   "nbconvert_exporter": "python",
   "pygments_lexer": "ipython3",
   "version": "3.7.4"
  }
 },
 "nbformat": 4,
 "nbformat_minor": 1
}

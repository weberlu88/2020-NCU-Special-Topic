{
 "cells": [
  {
   "cell_type": "markdown",
   "metadata": {},
   "source": [
    "# 全檔下載 \n",
    "* [新北市路邊停車空位查詢](https://data.ntpc.gov.tw/datasets/54A507C4-C038-41B5-BF60-BBECB9D052C6/api/preview)\n",
    "* [Python: zipfile 官方文件](https://docs.python.org/3/library/zipfile.html)\n",
    "* [Python: Extracting a file from a zip file with a different name](https://bitdrop.st0w.com/2010/07/23/python-extracting-a-file-from-a-zip-file-with-a-different-name/)\n",
    "* [Python: Tenacity (例外重作)](https://tenacity.readthedocs.io/en/latest/)"
   ]
  },
  {
   "cell_type": "code",
   "execution_count": 18,
   "metadata": {},
   "outputs": [],
   "source": [
    "import time\n",
    "import requests\n",
    "from time import gmtime, strftime\n",
    "\n",
    "from io import BytesIO\n",
    "from zipfile import ZipFile\n",
    "from urllib.request import urlopen # 舊版的套件將就用\n",
    "\n",
    "from tenacity import retry, stop_after_attempt, wait_fixed"
   ]
  },
  {
   "cell_type": "code",
   "execution_count": 2,
   "metadata": {},
   "outputs": [],
   "source": [
    "url = 'http://data.ntpc.gov.tw/api/datasets/{dataSetOid}/{format}'\n",
    "dataSetOid = '54A507C4-C038-41B5-BF60-BBECB9D052C6'\n",
    "downloadurl = \"http://data.ntpc.gov.tw/api/datasets/54A507C4-C038-41B5-BF60-BBECB9D052C6/csv/zip\""
   ]
  },
  {
   "cell_type": "markdown",
   "metadata": {},
   "source": [
    "### 下載的函數，有錯會重做3次(間隔10s)\n",
    "\n",
    "這個套件的的問題是，如果重作3遍還有exception的話，整個程式就回停下來，沒辦法忽略第三次exception。"
   ]
  },
  {
   "cell_type": "code",
   "execution_count": 24,
   "metadata": {},
   "outputs": [],
   "source": [
    "@retry(stop=stop_after_attempt(3), \n",
    "       wait=wait_fixed(2))\n",
    "def do_download(url, filename):\n",
    "    # 下載\n",
    "    resp = urlopen(url)\n",
    "    zipfile = ZipFile(BytesIO(resp.read()))\n",
    "\n",
    "    # 解壓縮 (位置與working directory相同)\n",
    "    target = zipfile.infolist()[0]\n",
    "    target.filename = filename\n",
    "    zipfile.extract(target)\n",
    "    return"
   ]
  },
  {
   "cell_type": "code",
   "execution_count": 28,
   "metadata": {},
   "outputs": [],
   "source": [
    "do_download(downloadurl , 'aaa.csv')"
   ]
  },
  {
   "cell_type": "markdown",
   "metadata": {},
   "source": [
    "### 這段code要開檔寫入，比較慢，也麻煩"
   ]
  },
  {
   "cell_type": "code",
   "execution_count": null,
   "metadata": {},
   "outputs": [],
   "source": [
    "from io import BytesIO\n",
    "from zipfile import ZipFile\n",
    "from urllib.request import urlopen\n",
    "# or: requests.get(url).content\n",
    "\n",
    "resp = urlopen(downloadurl)\n",
    "zipfile = ZipFile(BytesIO(resp.read()))\n",
    "filename = zipfile.namelist()[0]\n",
    "for line in zipfile.open(filename).readlines():\n",
    "#     print(line.decode('utf-8'))\n",
    "    with open('download_test.csv', 'a', encoding='utf-8') as f:\n",
    "        f.write(line.decode('utf-8'))"
   ]
  }
 ],
 "metadata": {
  "kernelspec": {
   "display_name": "Python 3",
   "language": "python",
   "name": "python3"
  },
  "language_info": {
   "codemirror_mode": {
    "name": "ipython",
    "version": 3
   },
   "file_extension": ".py",
   "mimetype": "text/x-python",
   "name": "python",
   "nbconvert_exporter": "python",
   "pygments_lexer": "ipython3",
   "version": "3.7.4"
  }
 },
 "nbformat": 4,
 "nbformat_minor": 2
}

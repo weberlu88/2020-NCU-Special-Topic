{
 "cells": [
  {
   "cell_type": "markdown",
   "metadata": {},
   "source": [
    "* Pandas 讀 excel_sheet: https://stackoverflow.com/questions/17977540/pandas-looking-up-the-list-of-sheets-in-an-excel-file\n",
    "* xlwings文件: https://docs.xlwings.org/en/stable/quickstart.html\n",
    "* [append elem into set()](https://stackoverflow.com/questions/3392354/append-values-to-a-set-in-python)"
   ]
  },
  {
   "cell_type": "code",
   "execution_count": 1,
   "metadata": {},
   "outputs": [],
   "source": [
    "# import xlwings as xl\n",
    "import pandas as pd"
   ]
  },
  {
   "cell_type": "markdown",
   "metadata": {},
   "source": [
    "## Test"
   ]
  },
  {
   "cell_type": "code",
   "execution_count": 26,
   "metadata": {},
   "outputs": [
    {
     "name": "stdout",
     "output_type": "stream",
     "text": [
      "53 ['莊崑路', '莊敬路', '莊敬路208巷', '莊敬路220巷', '莊敬路25巷', '莊敬路75巷', '莒光路78巷', '復興街', '華江陸橋', '華順街', '貴興路', '陽明街', '光環路', '雙十路', '雙十路二段47巷', '文化路二段', '中正路', '公館街', '海山路', '漢生東路279巷', '漢生東路193巷', '漢生東路', '大明街', '四川路二段', '萬板路', '莊敬里', '柏翠里', '新北市特一號道路', '新生街', '新海路', '新崑路', '溪北路', '溪崑二街', '溪頭街', '萬安街53巷', '僑中一街124巷', '實踐路', '滿平街136巷', '滿平街84巷', '綠堤街', '廣權路', '德興街', '館前東路', '龍泉街', '環河西路五段', '環河西路四段', '環河路', '環河道路321號', '懷德街139巷', '懷德街181巷', '懷德街201巷', '懷德街235巷', '觀光街']\n"
     ]
    }
   ],
   "source": [
    "books = ['1_507.xlsx', '508_1023.xlsx', '1024_1565.xlsx', '1566_2013.xlsx', '2014_last.xlsx']\n",
    "\n",
    "xl = pd.ExcelFile(books[4])\n",
    "\n",
    "sheet_name = xl.sheet_names  # see all sheet names\n",
    "print(len(sheet_name), sheet_name)\n",
    "# parse_dict = xl.parse(sheet_name)  # read a specific sheet to DataFrame"
   ]
  },
  {
   "cell_type": "markdown",
   "metadata": {},
   "source": [
    "## Get all route"
   ]
  },
  {
   "cell_type": "code",
   "execution_count": 42,
   "metadata": {
    "collapsed": true
   },
   "outputs": [
    {
     "name": "stdout",
     "output_type": "stream",
     "text": [
      "149\n",
      "{'綠堤街', '互助街', '公館街', '環河道路321號', '大觀路二段', '溪崑二街', '中正路372巷', '環河道路', '館前東路', '板新路', '懷德街139巷', '環河西路四段', '居仁巷1弄', '大明街20巷', '長安街251巷', '新生街', '國慶路', '金華街', '信義路', '環河路', '田單街', '長壽街', '莊敬路208巷', '文化路二段182巷5弄', '大觀路二段153巷', '中正路', '廣權路', '大明街25巷', '松江街', '文新路', '南雅南路二段', '民族路225巷', '民族路219巷', '板城路', '三民路一段', '大同街', '中山路二段443巷', '忠孝路201巷', '中正路379巷3弄', '四維路177巷4弄', '民生路一段30巷', '文化路二段', '114縣道', '德興街', '僑中一街124巷', '文化路二段182巷1弄', '公園街', '華江陸橋', '106甲縣道', '民生路三段', '光中路', '長安街138巷', '萬安街', '新崑路', '三民路二段', '龍泉街', '漢生東路279巷', '新北市特一號道路', '三民路二段正隆巷', '文化路二段182巷', '長安街', '板城路(環河道路)', '和平路', '府中路', '懷德街181巷', '重慶路308巷', '貴興路', '海山路', '英士路', '和平路200巷', '雙十路', '大明街', '柏翠里', '民生路二段', '四川路二段', '光環路', '文德路', '萬板路', '民族路247巷', '和平路161巷', '文化路二段182巷7弄', '南雅南路二段144巷', '和平路101巷', '西門街', '莊敬路220巷', '和安一路', '中山路二段90巷', '重慶路155巷', '萬安街53巷', '機慢車道', '新海路', '國慶路167巷', '成都街', '溪北路', '大智街', '光復街172巷', '北91鄉道', '懷德街235巷', '復興街', '民權路', '國慶路49巷', '四川路二段130巷', '陽明街', '區運路', '雨農路', '和平路143巷', '中正路379巷', '中正路80巷', '中正路1巷', '光復街', '滿平街84巷', '滿平街136巷', '民享街', '106縣道', '安三民路一段', '莊敬里', '莊敬路', '漢生東路', '南雅西路二段175巷', '干城路', '雙十路二段47巷', '環河西路五段', '吳鳳路', '環河西路', '明德街', '南雅西路二段145巷', '重慶路', '廣和街', '光武街', '四川路二段245巷', '莊崑路', '莒光路78巷', '雙十路一段', '國光路', '漢生東路193巷', '國慶路182巷', '華順街', '民生路一段', '溪頭街', '觀光街', '莊敬路75巷', '忠孝路', '中正路375巷', '北門街', '莊敬路25巷', '懷德街201巷', '三民路一段31巷', '光環路一段', '實踐路'}\n"
     ]
    }
   ],
   "source": [
    "route = set()\n",
    "for i in range(5):\n",
    "    xl = pd.ExcelFile(books[i])\n",
    "    sheet_name = xl.sheet_names\n",
    "    route.update(sheet_name)\n",
    "print(len(route))\n",
    "print(route)"
   ]
  },
  {
   "cell_type": "code",
   "execution_count": 55,
   "metadata": {},
   "outputs": [],
   "source": [
    "route_list = list(route)\n",
    "route_list.sort()\n",
    "with open('route.txt', 'w', encoding='utf-8') as file:\n",
    "    for r in route_list:\n",
    "        file.write(r+'\\n')"
   ]
  },
  {
   "cell_type": "code",
   "execution_count": null,
   "metadata": {},
   "outputs": [],
   "source": []
  }
 ],
 "metadata": {
  "kernelspec": {
   "display_name": "Python 3",
   "language": "python",
   "name": "python3"
  },
  "language_info": {
   "codemirror_mode": {
    "name": "ipython",
    "version": 3
   },
   "file_extension": ".py",
   "mimetype": "text/x-python",
   "name": "python",
   "nbconvert_exporter": "python",
   "pygments_lexer": "ipython3",
   "version": "3.7.4"
  }
 },
 "nbformat": 4,
 "nbformat_minor": 2
}

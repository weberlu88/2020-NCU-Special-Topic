{
 "cells": [
  {
   "cell_type": "markdown",
   "metadata": {},
   "source": [
    "程式教學 (沒用到GeoPandas套件 但應該很好用)\n",
    "* [Easy Steps To Plot Geographic Data on a Map — Python](https://towardsdatascience.com/easy-steps-to-plot-geographic-data-on-a-map-python-11217859a2db) > 我是參考這篇\n",
    "* [GeoPandas 101: Plot any data with a latitude and longitude on a map](https://towardsdatascience.com/geopandas-101-plot-any-data-with-a-latitude-and-longitude-on-a-map-98e01944b972)\n",
    "* [Plot latitude longitude from CSV in Python 3.6](https://stackoverflow.com/questions/53233228/plot-latitude-longitude-from-csv-in-python-3-6) > 單純點散布圖看這個"
   ]
  },
  {
   "cell_type": "code",
   "execution_count": 1,
   "metadata": {},
   "outputs": [],
   "source": [
    "import pandas as pd\n",
    "import matplotlib.pyplot as plt\n",
    "from matplotlib.font_manager import FontProperties"
   ]
  },
  {
   "cell_type": "code",
   "execution_count": 2,
   "metadata": {
    "scrolled": true
   },
   "outputs": [
    {
     "data": {
      "text/html": [
       "<div>\n",
       "<style scoped>\n",
       "    .dataframe tbody tr th:only-of-type {\n",
       "        vertical-align: middle;\n",
       "    }\n",
       "\n",
       "    .dataframe tbody tr th {\n",
       "        vertical-align: top;\n",
       "    }\n",
       "\n",
       "    .dataframe thead th {\n",
       "        text-align: right;\n",
       "    }\n",
       "</style>\n",
       "<table border=\"1\" class=\"dataframe\">\n",
       "  <thead>\n",
       "    <tr style=\"text-align: right;\">\n",
       "      <th></th>\n",
       "      <th>id</th>\n",
       "      <th>roadid</th>\n",
       "      <th>lat</th>\n",
       "      <th>lon</th>\n",
       "      <th>route</th>\n",
       "      <th>district</th>\n",
       "      <th>address</th>\n",
       "      <th>feeid</th>\n",
       "    </tr>\n",
       "  </thead>\n",
       "  <tbody>\n",
       "    <tr>\n",
       "      <td>0</td>\n",
       "      <td>15854</td>\n",
       "      <td>1</td>\n",
       "      <td>25.011510</td>\n",
       "      <td>121.478169</td>\n",
       "      <td>106甲縣道</td>\n",
       "      <td>板橋區</td>\n",
       "      <td>220台灣新北市板橋區106甲縣道16號</td>\n",
       "      <td>K79</td>\n",
       "    </tr>\n",
       "    <tr>\n",
       "      <td>1</td>\n",
       "      <td>15873</td>\n",
       "      <td>1</td>\n",
       "      <td>25.011571</td>\n",
       "      <td>121.478054</td>\n",
       "      <td>106甲縣道</td>\n",
       "      <td>板橋區</td>\n",
       "      <td>220台灣新北市板橋區106甲縣道77號</td>\n",
       "      <td>K79</td>\n",
       "    </tr>\n",
       "    <tr>\n",
       "      <td>2</td>\n",
       "      <td>15874</td>\n",
       "      <td>1</td>\n",
       "      <td>25.013625</td>\n",
       "      <td>121.474863</td>\n",
       "      <td>106甲縣道</td>\n",
       "      <td>板橋區</td>\n",
       "      <td>220台灣新北市板橋區106甲縣道18號</td>\n",
       "      <td>K79</td>\n",
       "    </tr>\n",
       "    <tr>\n",
       "      <td>3</td>\n",
       "      <td>48712</td>\n",
       "      <td>1</td>\n",
       "      <td>25.022058</td>\n",
       "      <td>121.469034</td>\n",
       "      <td>106甲縣道</td>\n",
       "      <td>板橋區</td>\n",
       "      <td>220台灣新北市板橋區106甲縣道228號</td>\n",
       "      <td>K02</td>\n",
       "    </tr>\n",
       "    <tr>\n",
       "      <td>4</td>\n",
       "      <td>1396</td>\n",
       "      <td>2</td>\n",
       "      <td>25.019300</td>\n",
       "      <td>121.479318</td>\n",
       "      <td>三民路一段</td>\n",
       "      <td>板橋區</td>\n",
       "      <td>220台灣新北市板橋區106縣道301號</td>\n",
       "      <td>K42</td>\n",
       "    </tr>\n",
       "  </tbody>\n",
       "</table>\n",
       "</div>"
      ],
      "text/plain": [
       "      id  roadid        lat         lon   route district  \\\n",
       "0  15854       1  25.011510  121.478169  106甲縣道      板橋區   \n",
       "1  15873       1  25.011571  121.478054  106甲縣道      板橋區   \n",
       "2  15874       1  25.013625  121.474863  106甲縣道      板橋區   \n",
       "3  48712       1  25.022058  121.469034  106甲縣道      板橋區   \n",
       "4   1396       2  25.019300  121.479318   三民路一段      板橋區   \n",
       "\n",
       "                 address feeid  \n",
       "0   220台灣新北市板橋區106甲縣道16號   K79  \n",
       "1   220台灣新北市板橋區106甲縣道77號   K79  \n",
       "2   220台灣新北市板橋區106甲縣道18號   K79  \n",
       "3  220台灣新北市板橋區106甲縣道228號   K02  \n",
       "4   220台灣新北市板橋區106縣道301號   K42  "
      ]
     },
     "execution_count": 2,
     "metadata": {},
     "output_type": "execute_result"
    }
   ],
   "source": [
    "df = pd.read_csv('板橋車格資訊.csv')\n",
    "df.head(5)"
   ]
  },
  {
   "cell_type": "code",
   "execution_count": 3,
   "metadata": {},
   "outputs": [
    {
     "data": {
      "text/plain": [
       "2774"
      ]
     },
     "execution_count": 3,
     "metadata": {},
     "output_type": "execute_result"
    }
   ],
   "source": [
    "len(df)"
   ]
  },
  {
   "cell_type": "code",
   "execution_count": 4,
   "metadata": {},
   "outputs": [
    {
     "name": "stdout",
     "output_type": "stream",
     "text": [
      "lon_min: 121.4259568686014\n",
      "lon_max: 121.4860494942235\n",
      "lat_min: 24.98705983814084\n",
      "lat_max: 25.03683062605064\n"
     ]
    }
   ],
   "source": [
    "lon_min = df['lon'].min()\n",
    "lon_max = df['lon'].max()\n",
    "lat_min = df['lat'].min()\n",
    "lat_max = df['lat'].max()\n",
    "\n",
    "print('lon_min:', lon_min)\n",
    "print('lon_max:', lon_max)\n",
    "print('lat_min:', lat_min)\n",
    "print('lat_max:', lat_max)"
   ]
  },
  {
   "cell_type": "raw",
   "metadata": {},
   "source": [
    "import matplotlib.pyplot as plt\n",
    "\n",
    "plt.scatter(x=df_route['lon'], y=df_route['lat'], s=3)\n",
    "plt.show()"
   ]
  },
  {
   "cell_type": "markdown",
   "metadata": {},
   "source": [
    "### define the Bounding Box"
   ]
  },
  {
   "cell_type": "code",
   "execution_count": 5,
   "metadata": {},
   "outputs": [],
   "source": [
    "# BBox = ((df.longitude.min(),   df.longitude.max(),      \n",
    "#          df.latitude.min(), df.latitude.max())\n",
    "BBox = ((121.4243, 121.4889,      \n",
    "         24.9718, 25.0402))\n",
    "\n",
    "ruh_m = plt.imread('板橋google map.png')"
   ]
  },
  {
   "cell_type": "markdown",
   "metadata": {},
   "source": [
    "### Plotting & save PNG\n",
    "\n",
    "It takes time to generate PNGs. Chinese text will lose font.\n",
    "* https://www.itread01.com/content/1545238867.html\n",
    "* https://codertw.com/%E7%A8%8B%E5%BC%8F%E8%AA%9E%E8%A8%80/359974/\n",
    "* 不印圖片 https://stackoverflow.com/questions/15713279/calling-pylab-savefig-without-display-in-ipython"
   ]
  },
  {
   "cell_type": "code",
   "execution_count": 6,
   "metadata": {},
   "outputs": [],
   "source": [
    "# Turn interactive plotting off\n",
    "plt.ioff()\n",
    "\n",
    "myfont=FontProperties(fname=r'C:\\Users\\howar\\Desktop\\msj.ttf',size=14)"
   ]
  },
  {
   "cell_type": "code",
   "execution_count": 7,
   "metadata": {},
   "outputs": [
    {
     "name": "stderr",
     "output_type": "stream",
     "text": [
      "C:\\ProgramData\\Anaconda3\\lib\\site-packages\\ipykernel_launcher.py:7: RuntimeWarning: More than 20 figures have been opened. Figures created through the pyplot interface (`matplotlib.pyplot.figure`) are retained until explicitly closed and may consume too much memory. (To control this warning, see the rcParam `figure.max_open_warning`).\n",
      "  import sys\n"
     ]
    }
   ],
   "source": [
    "for street in pd.unique(df['route']):\n",
    "    \n",
    "    # Get cells in this street\n",
    "    df_route = df.loc[df['route'] == street]\n",
    "    \n",
    "    # Generate plot (scatter+map)\n",
    "    fig, ax = plt.subplots(figsize = (8,6)) # 4:3\n",
    "    ax.scatter(df_route['lon'], df_route['lat'], zorder=1, alpha= 0.2, c='b', s=3)\n",
    "    ax.set_title(f'新北市板橋區 <{street}> 停車位地圖 共{len(df_route)}格', \n",
    "                 fontproperties=\"SimSun\")\n",
    "    ax.set_xlim(BBox[0],BBox[1])\n",
    "    ax.set_ylim(BBox[2],BBox[3])\n",
    "    ax.imshow(ruh_m, zorder=0, extent = BBox, aspect= 'equal')\n",
    "    \n",
    "    # Save\n",
    "    fig.savefig(f'img/{street}.png', dpi=300)\n",
    "    "
   ]
  }
 ],
 "metadata": {
  "kernelspec": {
   "display_name": "Python 3",
   "language": "python",
   "name": "python3"
  },
  "language_info": {
   "codemirror_mode": {
    "name": "ipython",
    "version": 3
   },
   "file_extension": ".py",
   "mimetype": "text/x-python",
   "name": "python",
   "nbconvert_exporter": "python",
   "pygments_lexer": "ipython3",
   "version": "3.7.4"
  }
 },
 "nbformat": 4,
 "nbformat_minor": 2
}

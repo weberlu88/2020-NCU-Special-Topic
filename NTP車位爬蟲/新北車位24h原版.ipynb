{
 "cells": [
  {
   "cell_type": "code",
   "execution_count": null,
   "metadata": {},
   "outputs": [],
   "source": [
    "import schedule\n",
    "import time\n",
    "import datetime as dt\n",
    "import pytz\n",
    "import requests\n",
    "from time import gmtime, strftime\n",
    "from apscheduler.schedulers.blocking import BlockingScheduler\n",
    "\n",
    "def job():\n",
    "    \n",
    "    time.sleep(10)\n",
    "    ctime = time.localtime(time.mktime(time.localtime()))\n",
    "    filename = strftime(\"%Y-%m-%d %H-%M-all\", ctime)\n",
    "\n",
    "    with open(filename+\".json\", \"wb\") as file:\n",
    "      for i in range(16): #總共有3萬多筆資料，每次只能爬2000筆，迴圈跑16次\n",
    "        time.sleep(1)\n",
    "        n=2000+i*2000\n",
    "        num=str(n)\n",
    "        url = \"https://data.ntpc.gov.tw/od/data/api/1A71BA9C-EF21-4524-B882-6D085DF2877A?$format=json&$top=2000&$skip=\"+num\n",
    "        #print(url)\n",
    "      \n",
    "        r = requests.get(url, allow_redirects=True)\n",
    "        for block in r.iter_content(chunk_size = 1024): \n",
    "          if block: \n",
    "            file.write(block)\n",
    "      print(filename)\n",
    "sched = BlockingScheduler()\n",
    "\n",
    "\n",
    "sched.add_job(job, 'cron', hour='*', minute='0,10,20,30,40,50')\n",
    "sched.start()\n",
    "\n",
    "#每隔一天 执行抓包程序\n",
    "# sched.add_job(everyday_crawler_job, 'interval', days=1)days\n",
    "#每天早上八点半和十二点半各执行一次抓包程序"
   ]
  },
  {
   "cell_type": "code",
   "execution_count": null,
   "metadata": {},
   "outputs": [],
   "source": [
    "def do_request(url):\n",
    "    try:\n",
    "        r = requests.get(url)\n",
    "        r.raise_for_status()\n",
    "    except requests.exceptions.HTTPError as err: # wasn't a 200\n",
    "#         retry\n",
    "#         raise SystemExit(err)\n",
    "   "
   ]
  }
 ],
 "metadata": {
  "kernelspec": {
   "display_name": "Python 3",
   "language": "python",
   "name": "python3"
  },
  "language_info": {
   "codemirror_mode": {
    "name": "ipython",
    "version": 3
   },
   "file_extension": ".py",
   "mimetype": "text/x-python",
   "name": "python",
   "nbconvert_exporter": "python",
   "pygments_lexer": "ipython3",
   "version": "3.7.4"
  }
 },
 "nbformat": 4,
 "nbformat_minor": 2
}

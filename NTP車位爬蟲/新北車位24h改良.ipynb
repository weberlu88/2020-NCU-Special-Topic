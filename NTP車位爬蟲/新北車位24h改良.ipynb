{
 "cells": [
  {
   "cell_type": "markdown",
   "metadata": {},
   "source": [
    "[Correct way to try/except using Python requests module?](https://stackoverflow.com/questions/16511337/correct-way-to-try-except-using-python-requests-module)"
   ]
  },
  {
   "cell_type": "markdown",
   "metadata": {},
   "source": [
    "# 新北車位24h改良"
   ]
  },
  {
   "cell_type": "code",
   "execution_count": 2,
   "metadata": {},
   "outputs": [],
   "source": [
    "import time\n",
    "import requests\n",
    "from time import gmtime, strftime"
   ]
  },
  {
   "cell_type": "code",
   "execution_count": 6,
   "metadata": {},
   "outputs": [],
   "source": [
    "dataSetOid = '54A507C4-C038-41B5-BF60-BBECB9D052C6'\n",
    "url = 'http://data.ntpc.gov.tw/api/datasets/{dataSetOid}/{format}'\n",
    "downloadurl = \"http://data.ntpc.gov.tw/api/datasets/54A507C4-C038-41B5-BF60-BBECB9D052C6/csv/zip\""
   ]
  },
  {
   "cell_type": "code",
   "execution_count": 16,
   "metadata": {},
   "outputs": [],
   "source": [
    "from io import BytesIO\n",
    "from zipfile import ZipFile\n",
    "from urllib.request import urlopen\n",
    "# or: requests.get(url).content\n",
    "\n",
    "resp = urlopen(downloadurl)\n",
    "zipfile = ZipFile(BytesIO(resp.read()))\n",
    "filename = zipfile.namelist()[0]\n",
    "for line in zipfile.open(filename).readlines():\n",
    "#     print(line.decode('utf-8'))\n",
    "    with open('download_test.csv', 'a', encoding='utf-8') as f:\n",
    "        f.write(line.decode('utf-8'))"
   ]
  },
  {
   "cell_type": "markdown",
   "metadata": {},
   "source": [
    "## Build the request function"
   ]
  },
  {
   "cell_type": "code",
   "execution_count": 4,
   "metadata": {},
   "outputs": [],
   "source": [
    "def do_request(url):\n",
    "    try:\n",
    "        r = requests.get(url, allow_redirects=True)\n",
    "        r.raise_for_status() # 看有沒有錯誤\n",
    "        if len(r.text) == 0:\n",
    "            return {'success': False, 'err': 'Null content', 'content': None}\n",
    "        # 成功才回傳 request 內容\n",
    "        return {'success': True, 'err': None, 'content': r}\n",
    "        \n",
    "    except requests.exceptions.Timeout:\n",
    "        # Maybe set up for a retry, or continue in a retry loop\n",
    "        return {'success': False, 'err': 'Timeout', 'content': None}\n",
    "    except requests.exceptions.TooManyRedirects:\n",
    "        # Tell the user their URL was bad and try a different one\n",
    "        return {'success': False, 'err': 'Too Many Redirects', 'content': None}\n",
    "    except requests.exceptions.RequestException as e:\n",
    "         # catastrophic error. bail.\n",
    "        return {'success': False, 'err': 'Request Exception', 'content': None}"
   ]
  },
  {
   "cell_type": "code",
   "execution_count": 5,
   "metadata": {},
   "outputs": [
    {
     "name": "stdout",
     "output_type": "stream",
     "text": [
      "1 None\n",
      "2 None\n",
      "3 None\n",
      "4 None\n",
      "5 None\n",
      "6 None\n",
      "7 None\n",
      "8 None\n",
      "9 None\n",
      "10 None\n",
      "11 None\n",
      "12 None\n",
      "13 None\n",
      "14 None\n",
      "15 None\n",
      "16 None\n"
     ]
    }
   ],
   "source": [
    "# 0~15, total 16 次\n",
    "for i in range(16):\n",
    "    n = 0 + i*2000\n",
    "    url = \"http://data.ntpc.gov.tw/api/datasets/54A507C4-C038-41B5-BF60-BBECB9D052C6/csv\"\n",
    "    res = do_request(url)\n",
    "    print(i+1, res['err'])"
   ]
  },
  {
   "cell_type": "code",
   "execution_count": null,
   "metadata": {},
   "outputs": [],
   "source": []
  },
  {
   "cell_type": "markdown",
   "metadata": {},
   "source": [
    "## Call the function to download WHOLE file"
   ]
  },
  {
   "cell_type": "markdown",
   "metadata": {},
   "source": [
    "- https://stackoverflow.com/questions/23615496/removing-the-first-line-of-csv-file\n",
    "- https://stackoverflow.com/questions/30833409/python-deleting-the-first-2-lines-of-a-string"
   ]
  },
  {
   "cell_type": "code",
   "execution_count": 6,
   "metadata": {},
   "outputs": [],
   "source": [
    "def do_write(content, filename, i):\n",
    "    with open(filename, 'a', encoding='utf-8') as f:\n",
    "        if i == 0:\n",
    "            # write title once in begining\n",
    "            f.write(content)\n",
    "        else:\n",
    "            # skip header line\n",
    "            postString = content.split(\"\\n\",1)[1:] # return 2 elem\n",
    "            for line in postString:\n",
    "                f.write(line)"
   ]
  },
  {
   "cell_type": "code",
   "execution_count": 7,
   "metadata": {},
   "outputs": [],
   "source": [
    "def job():\n",
    "    # Get time for file name\n",
    "    time.sleep(5)\n",
    "    ctime = time.localtime(time.mktime(time.localtime()))\n",
    "    filename = strftime(\"%Y-%m-%d %H-%M-all\", ctime) + '.csv'\n",
    "    \n",
    "    # Looping to download, i: 0~15\n",
    "    for i in range(16): \n",
    "        n = 0 + i*1000\n",
    "        url = \"http://data.ntpc.gov.tw/api/datasets/54A507C4-C038-41B5-BF60-BBECB9D052C6/csv?page=0&size=1000\"\n",
    "        res = do_request(url)\n",
    "        time.sleep(1)\n",
    "        \n",
    "        # Validation\n",
    "        tries = 0\n",
    "        while tries < 3:\n",
    "\n",
    "            # Response SUCCESS > write file > break validation loop\n",
    "            if res['success'] == True:\n",
    "                do_write(content = res['content'].text, \n",
    "                         filename= filename, \n",
    "                         i = i)\n",
    "                break\n",
    "                            \n",
    "            # Response FAIL > redo request\n",
    "            else:\n",
    "                # Redo request\n",
    "                tries += 1\n",
    "                time.sleep(15)\n",
    "                print(f'redo at {i} #{filename}' + \", Error: \" + res['err'])\n",
    "                res = do_request(url)\n",
    "                if res['success'] == True:\n",
    "                    do_write(content = res['content'].text, \n",
    "                             filename= filename, \n",
    "                             i = i)\n",
    "                    break\n",
    "        \n",
    "#         if res['success'] == True and tries < 3:\n",
    "#             with open(filename, 'a', encoding='utf-8') as f:\n",
    "#                 # write title once in begining\n",
    "#                 if i == 0:\n",
    "#                     f.write(res['content'].text)\n",
    "#                 else:\n",
    "#                     content = res['content'].text\n",
    "#                     next(content) # skip header line\n",
    "#                     for line in content:\n",
    "#                         f.write(line)\n",
    "                \n",
    "#         else:\n",
    "#             # Redo request\n",
    "#             tries+=1\n",
    "#             time.sleep(30)\n",
    "#             res = do_request(url)\n",
    "            "
   ]
  },
  {
   "cell_type": "code",
   "execution_count": 8,
   "metadata": {},
   "outputs": [
    {
     "name": "stdout",
     "output_type": "stream",
     "text": [
      "redo at 0 #2020-05-27 00-24-all.csv, Error: Request Exception\n",
      "redo at 0 #2020-05-27 00-24-all.csv, Error: Request Exception\n",
      "redo at 0 #2020-05-27 00-24-all.csv, Error: Request Exception\n",
      "redo at 1 #2020-05-27 00-24-all.csv, Error: Request Exception\n",
      "redo at 1 #2020-05-27 00-24-all.csv, Error: Request Exception\n",
      "redo at 1 #2020-05-27 00-24-all.csv, Error: Request Exception\n",
      "redo at 2 #2020-05-27 00-24-all.csv, Error: Request Exception\n"
     ]
    },
    {
     "name": "stderr",
     "output_type": "stream",
     "text": [
      "From cffi callback <function _verify_callback at 0x0000020DB6A03678>:\n",
      "Traceback (most recent call last):\n",
      "  File \"C:\\ProgramData\\Anaconda3\\lib\\site-packages\\OpenSSL\\SSL.py\", line 306, in wrapper\n",
      "    @wraps(callback)\n",
      "KeyboardInterrupt\n"
     ]
    },
    {
     "name": "stdout",
     "output_type": "stream",
     "text": [
      "redo at 2 #2020-05-27 00-24-all.csv, Error: Request Exception\n",
      "redo at 2 #2020-05-27 00-24-all.csv, Error: Request Exception\n",
      "redo at 3 #2020-05-27 00-24-all.csv, Error: Request Exception\n",
      "redo at 3 #2020-05-27 00-24-all.csv, Error: Request Exception\n",
      "redo at 3 #2020-05-27 00-24-all.csv, Error: Request Exception\n",
      "redo at 4 #2020-05-27 00-24-all.csv, Error: Request Exception\n",
      "redo at 4 #2020-05-27 00-24-all.csv, Error: Request Exception\n",
      "redo at 4 #2020-05-27 00-24-all.csv, Error: Request Exception\n",
      "redo at 5 #2020-05-27 00-24-all.csv, Error: Request Exception\n",
      "redo at 5 #2020-05-27 00-24-all.csv, Error: Request Exception\n",
      "redo at 5 #2020-05-27 00-24-all.csv, Error: Request Exception\n",
      "redo at 6 #2020-05-27 00-24-all.csv, Error: Request Exception\n",
      "redo at 6 #2020-05-27 00-24-all.csv, Error: Request Exception\n",
      "redo at 6 #2020-05-27 00-24-all.csv, Error: Request Exception\n",
      "redo at 7 #2020-05-27 00-24-all.csv, Error: Request Exception\n",
      "redo at 7 #2020-05-27 00-24-all.csv, Error: Request Exception\n",
      "redo at 7 #2020-05-27 00-24-all.csv, Error: Request Exception\n",
      "redo at 8 #2020-05-27 00-24-all.csv, Error: Request Exception\n",
      "redo at 8 #2020-05-27 00-24-all.csv, Error: Request Exception\n",
      "redo at 8 #2020-05-27 00-24-all.csv, Error: Request Exception\n",
      "redo at 9 #2020-05-27 00-24-all.csv, Error: Request Exception\n",
      "redo at 9 #2020-05-27 00-24-all.csv, Error: Request Exception\n",
      "redo at 9 #2020-05-27 00-24-all.csv, Error: Request Exception\n",
      "redo at 10 #2020-05-27 00-24-all.csv, Error: Request Exception\n",
      "redo at 10 #2020-05-27 00-24-all.csv, Error: Request Exception\n",
      "redo at 10 #2020-05-27 00-24-all.csv, Error: Request Exception\n",
      "redo at 11 #2020-05-27 00-24-all.csv, Error: Request Exception\n",
      "redo at 11 #2020-05-27 00-24-all.csv, Error: Request Exception\n",
      "redo at 11 #2020-05-27 00-24-all.csv, Error: Request Exception\n"
     ]
    },
    {
     "ename": "KeyboardInterrupt",
     "evalue": "",
     "output_type": "error",
     "traceback": [
      "\u001b[1;31m---------------------------------------------------------------------------\u001b[0m",
      "\u001b[1;31mKeyboardInterrupt\u001b[0m                         Traceback (most recent call last)",
      "\u001b[1;32m<ipython-input-8-3ebb3a2cfd17>\u001b[0m in \u001b[0;36m<module>\u001b[1;34m\u001b[0m\n\u001b[1;32m----> 1\u001b[1;33m \u001b[0mjob\u001b[0m\u001b[1;33m(\u001b[0m\u001b[1;33m)\u001b[0m\u001b[1;33m\u001b[0m\u001b[1;33m\u001b[0m\u001b[0m\n\u001b[0m",
      "\u001b[1;32m<ipython-input-7-01092671fb7e>\u001b[0m in \u001b[0;36mjob\u001b[1;34m()\u001b[0m\n\u001b[0;32m     27\u001b[0m                 \u001b[1;31m# Redo request\u001b[0m\u001b[1;33m\u001b[0m\u001b[1;33m\u001b[0m\u001b[1;33m\u001b[0m\u001b[0m\n\u001b[0;32m     28\u001b[0m                 \u001b[0mtries\u001b[0m \u001b[1;33m+=\u001b[0m \u001b[1;36m1\u001b[0m\u001b[1;33m\u001b[0m\u001b[1;33m\u001b[0m\u001b[0m\n\u001b[1;32m---> 29\u001b[1;33m                 \u001b[0mtime\u001b[0m\u001b[1;33m.\u001b[0m\u001b[0msleep\u001b[0m\u001b[1;33m(\u001b[0m\u001b[1;36m15\u001b[0m\u001b[1;33m)\u001b[0m\u001b[1;33m\u001b[0m\u001b[1;33m\u001b[0m\u001b[0m\n\u001b[0m\u001b[0;32m     30\u001b[0m                 \u001b[0mprint\u001b[0m\u001b[1;33m(\u001b[0m\u001b[1;34mf'redo at {i} #{filename}'\u001b[0m \u001b[1;33m+\u001b[0m \u001b[1;34m\", Error: \"\u001b[0m \u001b[1;33m+\u001b[0m \u001b[0mres\u001b[0m\u001b[1;33m[\u001b[0m\u001b[1;34m'err'\u001b[0m\u001b[1;33m]\u001b[0m\u001b[1;33m)\u001b[0m\u001b[1;33m\u001b[0m\u001b[1;33m\u001b[0m\u001b[0m\n\u001b[0;32m     31\u001b[0m                 \u001b[0mres\u001b[0m \u001b[1;33m=\u001b[0m \u001b[0mdo_request\u001b[0m\u001b[1;33m(\u001b[0m\u001b[0murl\u001b[0m\u001b[1;33m)\u001b[0m\u001b[1;33m\u001b[0m\u001b[1;33m\u001b[0m\u001b[0m\n",
      "\u001b[1;31mKeyboardInterrupt\u001b[0m: "
     ]
    }
   ],
   "source": [
    "job()"
   ]
  },
  {
   "cell_type": "code",
   "execution_count": null,
   "metadata": {},
   "outputs": [
    {
     "name": "stdout",
     "output_type": "stream",
     "text": [
      "redo at 2 #2020-05-14 09-50-all.csv, Error: Null content\n",
      "redo at 1 #2020-05-14 10-00-all.csv, Error: Null content\n",
      "redo at 2 #2020-05-14 10-10-all.csv, Error: Null content\n",
      "redo at 1 #2020-05-14 10-20-all.csv, Error: Null content\n",
      "redo at 1 #2020-05-14 10-30-all.csv, Error: Null content\n",
      "redo at 3 #2020-05-14 10-40-all.csv, Error: Null content\n",
      "redo at 0 #2020-05-14 10-50-all.csv, Error: Null content\n",
      "redo at 0 #2020-05-14 11-00-all.csv, Error: Null content\n",
      "redo at 4 #2020-05-14 11-10-all.csv, Error: Null content\n",
      "redo at 0 #2020-05-14 11-20-all.csv, Error: Null content\n",
      "redo at 2 #2020-05-14 11-30-all.csv, Error: Null content\n",
      "redo at 1 #2020-05-14 11-40-all.csv, Error: Null content\n",
      "redo at 0 #2020-05-14 11-50-all.csv, Error: Null content\n",
      "redo at 0 #2020-05-14 12-00-all.csv, Error: Null content\n",
      "redo at 1 #2020-05-14 12-10-all.csv, Error: Null content\n",
      "redo at 0 #2020-05-14 12-20-all.csv, Error: Null content\n",
      "redo at 0 #2020-05-14 12-30-all.csv, Error: Null content\n",
      "redo at 0 #2020-05-14 12-40-all.csv, Error: Null content\n",
      "redo at 0 #2020-05-14 12-50-all.csv, Error: Null content\n",
      "redo at 0 #2020-05-14 13-00-all.csv, Error: Null content\n",
      "redo at 0 #2020-05-14 13-10-all.csv, Error: Null content\n",
      "redo at 2 #2020-05-14 13-30-all.csv, Error: Null content\n",
      "redo at 0 #2020-05-14 13-40-all.csv, Error: Null content\n",
      "redo at 0 #2020-05-14 13-50-all.csv, Error: Null content\n",
      "redo at 0 #2020-05-14 14-00-all.csv, Error: Null content\n",
      "redo at 0 #2020-05-14 14-30-all.csv, Error: Null content\n",
      "redo at 0 #2020-05-14 14-40-all.csv, Error: Null content\n",
      "redo at 0 #2020-05-14 14-50-all.csv, Error: Null content\n",
      "redo at 0 #2020-05-14 15-00-all.csv, Error: Null content\n",
      "redo at 0 #2020-05-14 15-30-all.csv, Error: Null content\n",
      "redo at 0 #2020-05-14 15-40-all.csv, Error: Null content\n",
      "redo at 0 #2020-05-14 15-50-all.csv, Error: Null content\n",
      "redo at 0 #2020-05-14 16-00-all.csv, Error: Null content\n",
      "redo at 0 #2020-05-14 16-30-all.csv, Error: Null content\n",
      "redo at 0 #2020-05-14 16-40-all.csv, Error: Null content\n",
      "redo at 0 #2020-05-14 16-50-all.csv, Error: Null content\n",
      "redo at 0 #2020-05-14 17-00-all.csv, Error: Null content\n",
      "redo at 0 #2020-05-14 17-10-all.csv, Error: Null content\n",
      "redo at 0 #2020-05-14 17-20-all.csv, Error: Null content\n",
      "redo at 0 #2020-05-14 17-30-all.csv, Error: Null content\n",
      "redo at 0 #2020-05-14 17-40-all.csv, Error: Null content\n",
      "redo at 0 #2020-05-14 17-50-all.csv, Error: Null content\n"
     ]
    }
   ],
   "source": [
    "from apscheduler.schedulers.blocking import BlockingScheduler\n",
    "sched = BlockingScheduler()\n",
    "\n",
    "sched.add_job(job, 'cron', hour='*', minute='0,10,20,30,40,50')\n",
    "sched.start()"
   ]
  },
  {
   "cell_type": "code",
   "execution_count": null,
   "metadata": {},
   "outputs": [],
   "source": []
  }
 ],
 "metadata": {
  "kernelspec": {
   "display_name": "Python 3",
   "language": "python",
   "name": "python3"
  },
  "language_info": {
   "codemirror_mode": {
    "name": "ipython",
    "version": 3
   },
   "file_extension": ".py",
   "mimetype": "text/x-python",
   "name": "python",
   "nbconvert_exporter": "python",
   "pygments_lexer": "ipython3",
   "version": "3.7.4"
  }
 },
 "nbformat": 4,
 "nbformat_minor": 2
}
